{
 "cells": [
  {
   "cell_type": "markdown",
   "metadata": {},
   "source": [
    "## Imports & boilerplate stuff"
   ]
  },
  {
   "cell_type": "code",
   "execution_count": 1,
   "metadata": {},
   "outputs": [],
   "source": [
    "import os\n",
    "import torch\n",
    "import matplotlib.pyplot as plt\n",
    "from PIL import Image"
   ]
  },
  {
   "cell_type": "code",
   "execution_count": 2,
   "metadata": {},
   "outputs": [],
   "source": [
    "base_folder = \"./images\"\n",
    "if not os.path.isdir(base_folder):\n",
    "    os.mkdir(base_folder)"
   ]
  },
  {
   "cell_type": "code",
   "execution_count": 3,
   "metadata": {},
   "outputs": [
    {
     "name": "stdout",
     "output_type": "stream",
     "text": [
      "cpu\n"
     ]
    },
    {
     "data": {
      "text/plain": [
       "<torch._C.Generator at 0x1175ff6d0>"
      ]
     },
     "execution_count": 3,
     "metadata": {},
     "output_type": "execute_result"
    }
   ],
   "source": [
    "# device selection\n",
    "mode = \"gpu\"\n",
    "device_idx = 0\n",
    "if mode == \"gpu\":\n",
    "    device = torch.device(f\"cuda:{device_idx}\" if torch.cuda.is_available() else \"cpu\")\n",
    "else:\n",
    "    device = torch.device(\"cpu\")\n",
    "print(device)\n",
    "\n",
    "if torch.cuda.is_available():\n",
    "    torch.backends.cudnn.deterministic = True\n",
    "torch.manual_seed(0)"
   ]
  },
  {
   "cell_type": "markdown",
   "metadata": {},
   "source": [
    "## Autoencoder Model\n",
    "\n",
    "We define the model as a simple two layer autoencoder. The model is ready to receive a 3-dimensional vector as input, compresses it into two dimensions and expands that representation back into 3 dimensions.\n",
    "\n",
    "Note that there isn't a specific color encoding "
   ]
  },
  {
   "cell_type": "code",
   "execution_count": 4,
   "metadata": {},
   "outputs": [],
   "source": [
    "class ColorAE(torch.nn.Module):\n",
    "    def __init__(self):\n",
    "        super(ColorAE, self).__init__()\n",
    "        self.encoder = torch.nn.Linear(3, 2)\n",
    "        self.decoder = torch.nn.Linear(2, 3)\n",
    "    \n",
    "    def encode(self, x):\n",
    "        return torch.sigmoid(self.encoder(x))\n",
    "    \n",
    "    def decode(self, x):\n",
    "        return torch.sigmoid(self.decoder(x))\n",
    "    \n",
    "    def forward(self, x):\n",
    "        return self.decode(self.encode(x))"
   ]
  },
  {
   "cell_type": "code",
   "execution_count": 5,
   "metadata": {},
   "outputs": [],
   "source": [
    "class ColorDataset(torch.utils.data.Dataset):\n",
    "    def __init__(self, size):\n",
    "        self.size = size\n",
    "    \n",
    "    def __len__(self):\n",
    "        return self.size\n",
    "    \n",
    "    def __getitem__(self, _):\n",
    "        return torch.rand(3)"
   ]
  },
  {
   "cell_type": "code",
   "execution_count": 6,
   "metadata": {},
   "outputs": [
    {
     "name": "stdout",
     "output_type": "stream",
     "text": [
      "ColorAE(\n",
      "  (encoder): Linear(in_features=3, out_features=2, bias=True)\n",
      "  (decoder): Linear(in_features=2, out_features=3, bias=True)\n",
      ")\n"
     ]
    }
   ],
   "source": [
    "model = ColorAE().to(device)\n",
    "lr = 1e-3\n",
    "batch_size = 64\n",
    "opt = torch.optim.Adam(model.parameters(), lr)\n",
    "train_dataset = ColorDataset(10000)\n",
    "print(model)"
   ]
  },
  {
   "cell_type": "code",
   "execution_count": 7,
   "metadata": {},
   "outputs": [],
   "source": [
    "def convert(c, color_space=\"RGB\"):\n",
    "    if color_space == \"RGB\":\n",
    "        return (255 * c).int()\n",
    "    else:\n",
    "        raise ValueError(\"Invalid color space\")\n",
    "\n",
    "def visualize_model(model, w=200, h=200, save_path=None):\n",
    "    model.eval()\n",
    "    with torch.no_grad():\n",
    "        final_image = torch.zeros(h, w, 3, dtype=torch.uint8, device=\"cpu\")\n",
    "        xs = torch.linspace(0, 1, w)\n",
    "        ys = torch.linspace(0, 1, h)\n",
    "        for i, y in enumerate(ys):\n",
    "            for j, x in enumerate(xs):\n",
    "                point = torch.stack([x, y], dim=0).to(device)\n",
    "                color = convert(model.decode(point).to(\"cpu\"))\n",
    "                final_image[i,j] = color\n",
    "        if save_path:\n",
    "            im = Image.fromarray(final_image.numpy())\n",
    "            im.save(save_path)\n",
    "        else:\n",
    "            plt.imshow(final_image)\n",
    "            plt.show()"
   ]
  },
  {
   "cell_type": "code",
   "execution_count": 8,
   "metadata": {},
   "outputs": [
    {
     "data": {
      "image/png": "[encoded data removed]",
      "text/plain": [
       "<Figure size 720x720 with 1 Axes>"
      ]
     },
     "metadata": {
      "needs_background": "light"
     },
     "output_type": "display_data"
    }
   ],
   "source": [
    "plt.figure(figsize=(10,10))\n",
    "visualize_model(model)"
   ]
  },
  {
   "cell_type": "code",
   "execution_count": 9,
   "metadata": {},
   "outputs": [],
   "source": [
    "test_dataset = ColorDataset(10000)\n",
    "test_loader = torch.utils.data.DataLoader(test_dataset, batch_size=batch_size, num_workers=16)\n",
    "def evaluate_model(model):\n",
    "    model.eval()\n",
    "    loss = 0\n",
    "    with torch.no_grad():\n",
    "        for colors in test_loader:\n",
    "            colors = colors.to(device)\n",
    "            preds = model(colors)\n",
    "            loss += compute_loss(colors, preds).item()\n",
    "        return loss * batch_size / len(test_loader)"
   ]
  },
  {
   "cell_type": "code",
   "execution_count": 10,
   "metadata": {},
   "outputs": [],
   "source": [
    "loss_function = torch.nn.MSELoss()\n",
    "\n",
    "def compute_loss(og_color, pr_color):\n",
    "    return loss_function(og_color, pr_color)"
   ]
  },
  {
   "cell_type": "code",
   "execution_count": 11,
   "metadata": {},
   "outputs": [
    {
     "name": "stdout",
     "output_type": "stream",
     "text": [
      "Training loss: 5.337978329628137; Test loss: 5.309500979769761\n",
      "Training loss: 5.258704683583254; Test loss: 5.2300581658721725\n",
      "Training loss: 5.166430928904539; Test loss: 5.166915149445746\n",
      "Training loss: 5.074838255621065; Test loss: 5.009199467434246\n",
      "Training loss: 4.967575070205008; Test loss: 4.913536910038845\n",
      "Training loss: 4.74629062755852; Test loss: 4.651167098124316\n",
      "Training loss: 4.659429568393975; Test loss: 4.453369339560248\n",
      "Training loss: 4.348570727998284; Test loss: 4.20696674790352\n",
      "Training loss: 4.104553992581216; Test loss: 4.026998951176929\n",
      "Training loss: 3.8299194870481066; Test loss: 3.705833233086167\n",
      "Training loss: 3.566090229969875; Test loss: 3.4928801788645947\n",
      "Training loss: 3.3803783510900605; Test loss: 3.2486854647375214\n",
      "Training loss: 3.1502334600800923; Test loss: 3.110749613707233\n",
      "Training loss: 2.9779732576601066; Test loss: 2.9112850663008962\n",
      "Training loss: 2.811770238694112; Test loss: 2.844694622003349\n",
      "Training loss: 2.7237926410261992; Test loss: 2.7072143691360573\n",
      "Training loss: 2.5431578098588687; Test loss: 2.70219659046003\n",
      "Training loss: 2.5326741091005363; Test loss: 2.62510600363373\n",
      "Training loss: 2.4825833132312556; Test loss: 2.544527608877534\n",
      "Training loss: 2.4085536663699303; Test loss: 2.3985637320075064\n",
      "Training loss: 2.2612759284912403; Test loss: 2.3222548506062504\n",
      "Training loss: 2.2632525992241637; Test loss: 2.2331664767234947\n",
      "Training loss: 2.1933924711433943; Test loss: 2.1580216937763677\n",
      "Training loss: 2.1136972562522645; Test loss: 2.104828429829543\n",
      "Training loss: 2.0762400376568935; Test loss: 2.12721192608973\n",
      "Training loss: 2.039421507507373; Test loss: 2.0428151795818548\n",
      "Training loss: 2.0324002329710944; Test loss: 2.076274854362391\n",
      "Training loss: 2.0160482765003374; Test loss: 2.050978867870987\n",
      "Training loss: 1.9930640292015804; Test loss: 2.0231744271175116\n",
      "Training loss: 1.9647405929626174; Test loss: 2.0146577699928527\n",
      "Training loss: 1.9206037039210082; Test loss: 2.060610640580487\n",
      "Training loss: 1.9619341595157695; Test loss: 2.026900597438691\n",
      "Training loss: 1.9929278481538129; Test loss: 2.0481271690623775\n",
      "Training loss: 2.001067403015817; Test loss: 2.1134686599111863\n",
      "Training loss: 1.989635022582522; Test loss: 2.1472352849450083\n",
      "Training loss: 2.051862793363583; Test loss: 2.1541591017109574\n",
      "Training loss: 1.9731431888167266; Test loss: 2.1313830667240605\n",
      "Training loss: 2.0205416899577826; Test loss: 2.105398027000913\n",
      "Training loss: 1.9338418754043094; Test loss: 2.018393678270328\n",
      "Training loss: 1.9588682473085488; Test loss: 1.972218825558948\n",
      "Training loss: 1.9548442788944123; Test loss: 1.9701980815571585\n",
      "Training loss: 1.8977585704463302; Test loss: 1.9102423889621807\n",
      "Training loss: 1.8853803804725597; Test loss: 1.9643053393455068\n",
      "Training loss: 1.8899827869075119; Test loss: 1.9350458877101826\n",
      "Training loss: 1.9401604104193912; Test loss: 1.9690989582401932\n",
      "Training loss: 1.901350287115498; Test loss: 1.9796820924540235\n",
      "Training loss: 1.895982894168538; Test loss: 1.9861571257281456\n",
      "Training loss: 1.8987231133090463; Test loss: 1.955831507968295\n",
      "Training loss: 1.927252707208038; Test loss: 1.9334508708328197\n",
      "Training loss: 1.970328983987213; Test loss: 2.0157430597171664\n",
      "Training loss: 1.9383334065698514; Test loss: 2.0021300771433834\n",
      "Training loss: 1.8898453522639669; Test loss: 1.983522953501173\n",
      "Training loss: 1.9617397800372665; Test loss: 2.03199413323858\n",
      "Training loss: 1.9305374470486003; Test loss: 2.0501252610212677\n",
      "Training loss: 1.9605227184903091; Test loss: 2.081420041193628\n",
      "Training loss: 1.9300666941199334; Test loss: 2.0671871323494395\n",
      "Training loss: 1.9703870457448778; Test loss: 2.0472791369553582\n",
      "Training loss: 1.9221281276387014; Test loss: 1.9840224184048403\n",
      "Training loss: 1.9482336636561497; Test loss: 1.9824916716593846\n",
      "Training loss: 1.8874629515751151; Test loss: 1.942441946381976\n",
      "Training loss: 1.9349152123092845; Test loss: 1.9200173031752277\n",
      "Training loss: 1.8633277142883107; Test loss: 1.9361907911908096\n",
      "Training loss: 1.916763283644512; Test loss: 1.9771766062754734\n",
      "Training loss: 1.928086079609622; Test loss: 2.031714265513572\n",
      "Training loss: 1.9369266891175774; Test loss: 2.0909175758908507\n",
      "Training loss: 1.945771111044914; Test loss: 2.0899465516873987\n",
      "Training loss: 1.9521754243571288; Test loss: 2.0248271500229076\n",
      "Training loss: 1.9214920071279926; Test loss: 2.0018632313248457\n",
      "Training loss: 1.9103525846627107; Test loss: 1.931253916898351\n",
      "Training loss: 1.8744058119263618; Test loss: 1.9557464882067055\n",
      "Training loss: 1.8455399403906172; Test loss: 1.9074328089975248\n",
      "Training loss: 1.8840450898856873; Test loss: 1.8821921378943571\n",
      "Training loss: 1.8834363913080494; Test loss: 1.9447824400701341\n",
      "Training loss: 1.9065482996071978; Test loss: 2.0189253691655056\n",
      "Training loss: 1.9375827084681032; Test loss: 2.0281501256736223\n",
      "Training loss: 1.9381530117836727; Test loss: 2.084889335237491\n",
      "Training loss: 1.955715790675704; Test loss: 2.0926408858815577\n",
      "Training loss: 1.9759818755896987; Test loss: 2.0893357043053693\n",
      "Training loss: 1.9513106695405997; Test loss: 2.004170271241741\n",
      "Training loss: 1.957194016997222; Test loss: 1.9878394277232467\n",
      "Training loss: 1.8785946224905123; Test loss: 1.9495013838361024\n",
      "Training loss: 1.9059519851283662; Test loss: 1.9403839377081318\n",
      "Training loss: 1.8797360871248185; Test loss: 1.930461621588203\n",
      "Training loss: 1.9239260421437063; Test loss: 1.9812096524390446\n",
      "Training loss: 1.9575386123292764; Test loss: 2.036933361345036\n",
      "Training loss: 1.952653319972336; Test loss: 2.0531539043803124\n",
      "Training loss: 2.0229970467318394; Test loss: 2.064861961990405\n",
      "Training loss: 1.9703766304975863; Test loss: 2.0385282753379483\n",
      "Training loss: 1.9214282362324417; Test loss: 1.9734093345654238\n",
      "Training loss: 1.950026826494059; Test loss: 1.9445579598663718\n",
      "Training loss: 1.8891501403917932; Test loss: 1.9340336300005578\n",
      "Training loss: 1.8644623650107415; Test loss: 1.8798717981690813\n",
      "Training loss: 1.8518736704139953; Test loss: 1.8940921740926755\n",
      "Training loss: 1.8379215093175316; Test loss: 1.92812112714075\n",
      "Training loss: 1.9149473260162742; Test loss: 1.9644110582436725\n",
      "Training loss: 1.9068671457327095; Test loss: 1.9923484803764684\n",
      "Training loss: 1.8997148685394578; Test loss: 2.0771761935227997\n",
      "Training loss: 1.94769558785068; Test loss: 2.1330420226807805\n",
      "Training loss: 2.0258204420660713; Test loss: 2.190078893284889\n",
      "Training loss: 2.0145393131644864; Test loss: 2.201789317616991\n",
      "Training loss: 2.012873870551966; Test loss: 2.1339185048060814\n",
      "Training loss: 1.9913003558565856; Test loss: 2.031756649351424\n",
      "Training loss: 1.9196933955903266; Test loss: 1.9489404532560117\n",
      "Training loss: 1.9102928304368523; Test loss: 1.885323803895598\n",
      "Training loss: 1.8681608878882827; Test loss: 1.8895045177192444\n",
      "Training loss: 1.8553545892618264; Test loss: 1.8592858117097502\n",
      "Training loss: 1.825451299643061; Test loss: 1.862911371668433\n",
      "Training loss: 1.7918728817800047; Test loss: 1.846470602758371\n",
      "Training loss: 1.8398183667735688; Test loss: 1.8465364100826773\n",
      "Training loss: 1.85020785195053; Test loss: 1.9251458272812472\n",
      "Training loss: 1.896306529925887; Test loss: 1.879601563617682\n",
      "Training loss: 1.8611895590071466; Test loss: 1.9787460899656746\n",
      "Training loss: 1.9107389776570023; Test loss: 2.0163697444709245\n",
      "Training loss: 1.9188797132224793; Test loss: 2.040453191775425\n",
      "Training loss: 1.9667447365013657; Test loss: 2.050706321266806\n",
      "Training loss: 1.9560544711009713; Test loss: 2.1175126421983075\n",
      "Training loss: 1.9988750067486125; Test loss: 2.0647821016372387\n",
      "Training loss: 1.9867042910521198; Test loss: 2.0558682437155658\n",
      "Training loss: 1.921046959366768; Test loss: 2.0465935104212183\n",
      "Training loss: 1.9160359186731326; Test loss: 1.9067013810394675\n"
     ]
    }
   ],
   "source": [
    "def train(model, epochs=120):\n",
    "    train_losses = []\n",
    "    test_losses = []\n",
    "    train_loader = torch.utils.data.DataLoader(train_dataset, batch_size=batch_size, shuffle=True, num_workers=16)\n",
    "    for epoch in range(epochs):\n",
    "        opt.zero_grad()\n",
    "        model.train()\n",
    "        epoch_train_loss = 0\n",
    "        for colors in train_loader:\n",
    "            colors = colors.to(device)\n",
    "            preds = model(colors)\n",
    "            loss = compute_loss(colors, preds)\n",
    "            loss.backward()\n",
    "            opt.step()\n",
    "            epoch_train_loss += loss.item()\n",
    "        epoch_train_loss /= len(train_loader) / batch_size\n",
    "        test_loss = evaluate_model(model)\n",
    "        visualize_model(model, save_path=os.path.join(base_folder, f\"reduced_{epoch:04d}.png\"))\n",
    "        train_losses.append(epoch_train_loss)\n",
    "        test_losses.append(test_loss)\n",
    "        print(f\"Training loss: {epoch_train_loss}; Test loss: {test_loss}\")\n",
    "    return train_losses, test_losses\n",
    "        \n",
    "train_losses, test_losses = train(model)"
   ]
  },
  {
   "cell_type": "code",
   "execution_count": 12,
   "metadata": {},
   "outputs": [
    {
     "data": {
      "image/png": "[encoded data removed]",
      "text/plain": [
       "<Figure size 720x720 with 1 Axes>"
      ]
     },
     "metadata": {
      "needs_background": "light"
     },
     "output_type": "display_data"
    }
   ],
   "source": [
    "plt.figure(figsize=(10, 10))\n",
    "plt.plot(train_losses, label=\"Training loss\")\n",
    "plt.plot(test_losses, label=\"Test loss\")\n",
    "plt.title(\"MSE RGB Loss\")\n",
    "plt.xlabel(\"Epoch\")\n",
    "plt.ylabel(\"Loss\")\n",
    "plt.legend()\n",
    "plt.show()"
   ]
  }
 ],
 "metadata": {
  "kernelspec": {
   "display_name": "Python 3",
   "language": "python",
   "name": "python3"
  },
  "language_info": {
   "codemirror_mode": {
    "name": "ipython",
    "version": 3
   },
   "file_extension": ".py",
   "mimetype": "text/x-python",
   "name": "python",
   "nbconvert_exporter": "python",
   "pygments_lexer": "ipython3",
   "version": "3.7.4"
  }
 },
 "nbformat": 4,
 "nbformat_minor": 4
}
