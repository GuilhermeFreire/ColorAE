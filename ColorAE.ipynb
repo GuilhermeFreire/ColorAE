{
 "cells": [
  {
   "cell_type": "code",
   "execution_count": 1,
   "metadata": {},
   "outputs": [],
   "source": [
    "import os\n",
    "import torch\n",
    "import matplotlib.pyplot as plt\n",
    "from PIL import Image"
   ]
  },
  {
   "cell_type": "code",
   "execution_count": 2,
   "metadata": {},
   "outputs": [],
   "source": [
    "base_folder = \"./images\"\n",
    "if not os.path.isdir(base_folder):\n",
    "    os.mkdir(base_folder)"
   ]
  },
  {
   "cell_type": "code",
   "execution_count": 3,
   "metadata": {},
   "outputs": [
    {
     "name": "stdout",
     "output_type": "stream",
     "text": [
      "cpu\n"
     ]
    },
    {
     "data": {
      "text/plain": [
       "<torch._C.Generator at 0x12f6706d0>"
      ]
     },
     "execution_count": 3,
     "metadata": {},
     "output_type": "execute_result"
    }
   ],
   "source": [
    "# device selection\n",
    "mode = \"gpu\"\n",
    "device_idx = 0\n",
    "if mode == \"gpu\":\n",
    "    device = torch.device(f\"cuda:{device_idx}\" if torch.cuda.is_available() else \"cpu\")\n",
    "elif mode == \"tpu\":\n",
    "    # TODO\n",
    "    device = torch.device(f\"cuda:{device_idx}\" if torch.cuda.is_available() else \"cpu\")\n",
    "else:\n",
    "    device = torch.device(\"cpu\")\n",
    "print(device)\n",
    "\n",
    "if torch.cuda.is_available():\n",
    "    torch.backends.cudnn.deterministic = True\n",
    "torch.manual_seed(0)"
   ]
  },
  {
   "cell_type": "code",
   "execution_count": 4,
   "metadata": {},
   "outputs": [],
   "source": [
    "class ColorAE(torch.nn.Module):\n",
    "    def __init__(self):\n",
    "        super(ColorAE, self).__init__()\n",
    "        self.encoder = torch.nn.Linear(3, 2)\n",
    "        self.decoder = torch.nn.Linear(2, 3)\n",
    "    \n",
    "    def encode(self, x):\n",
    "        return torch.sigmoid(self.encoder(x))\n",
    "    \n",
    "    def decode(self, x):\n",
    "        return torch.sigmoid(self.decoder(x))\n",
    "    \n",
    "    def forward(self, x):\n",
    "        return self.decode(self.encode(x))"
   ]
  },
  {
   "cell_type": "code",
   "execution_count": 5,
   "metadata": {},
   "outputs": [],
   "source": [
    "class ColorDataset(torch.utils.data.Dataset):\n",
    "    def __init__(self, size):\n",
    "        self.size = size\n",
    "    \n",
    "    def __len__(self):\n",
    "        return self.size\n",
    "    \n",
    "    def __getitem__(self, _):\n",
    "        return torch.rand(3)"
   ]
  },
  {
   "cell_type": "code",
   "execution_count": 6,
   "metadata": {},
   "outputs": [
    {
     "name": "stdout",
     "output_type": "stream",
     "text": [
      "ColorAE(\n",
      "  (encoder): Linear(in_features=3, out_features=2, bias=True)\n",
      "  (decoder): Linear(in_features=2, out_features=3, bias=True)\n",
      ")\n"
     ]
    }
   ],
   "source": [
    "model = ColorAE().to(device)\n",
    "lr = 1e-3\n",
    "batch_size = 64\n",
    "opt = torch.optim.Adam(model.parameters(), lr)\n",
    "train_dataset = ColorDataset(10000)\n",
    "print(model)"
   ]
  },
  {
   "cell_type": "code",
   "execution_count": 7,
   "metadata": {},
   "outputs": [],
   "source": [
    "def convert(c, color_space=\"RGB\"):\n",
    "    if color_space == \"RGB\":\n",
    "        return (255 * c).int()\n",
    "    else:\n",
    "        raise ValueError(\"Invalid color space\")\n",
    "\n",
    "def visualize_model(model, w=200, h=200, save_path=None):\n",
    "    model.eval()\n",
    "    with torch.no_grad():\n",
    "        final_image = torch.zeros(h, w, 3, dtype=torch.uint8, device=\"cpu\")\n",
    "        xs = torch.linspace(0, 1, w)\n",
    "        ys = torch.linspace(0, 1, h)\n",
    "        for i, y in enumerate(ys):\n",
    "            for j, x in enumerate(xs):\n",
    "                point = torch.stack([x, y], dim=0).to(device)\n",
    "                color = convert(model.decode(point).to(\"cpu\"))\n",
    "                final_image[i,j] = color\n",
    "        if save_path:\n",
    "            im = Image.fromarray(final_image.numpy())\n",
    "            im.save(save_path)\n",
    "        else:\n",
    "            plt.imshow(final_image)\n",
    "            plt.show()"
   ]
  },
  {
   "cell_type": "code",
   "execution_count": 8,
   "metadata": {},
   "outputs": [
    {
     "data": {
      "image/png": "[encoded data removed]",
      "text/plain": [
       "<Figure size 720x720 with 1 Axes>"
      ]
     },
     "metadata": {
      "needs_background": "light"
     },
     "output_type": "display_data"
    }
   ],
   "source": [
    "plt.figure(figsize=(10,10))\n",
    "visualize_model(model)"
   ]
  },
  {
   "cell_type": "code",
   "execution_count": 9,
   "metadata": {},
   "outputs": [],
   "source": [
    "test_dataset = ColorDataset(10000)\n",
    "test_loader = torch.utils.data.DataLoader(test_dataset, batch_size=batch_size, num_workers=16)\n",
    "def evaluate_model(model):\n",
    "    model.eval()\n",
    "    loss = 0\n",
    "    with torch.no_grad():\n",
    "        for colors in test_loader:\n",
    "            colors = colors.to(device)\n",
    "            preds = model(colors)\n",
    "            loss += compute_loss(colors, preds).item()\n",
    "        return loss * batch_size / len(test_loader)"
   ]
  },
  {
   "cell_type": "code",
   "execution_count": 10,
   "metadata": {},
   "outputs": [],
   "source": [
    "loss_function = torch.nn.MSELoss()\n",
    "\n",
    "def compute_loss(og_color, pr_color):\n",
    "    return loss_function(og_color, pr_color)"
   ]
  },
  {
   "cell_type": "code",
   "execution_count": null,
   "metadata": {},
   "outputs": [
    {
     "name": "stdout",
     "output_type": "stream",
     "text": [
      "Training loss: 5.337978329628137; Test loss: 5.309500979769761\n",
      "Training loss: 5.258704683583254; Test loss: 5.2300581658721725\n",
      "Training loss: 5.166430928904539; Test loss: 5.166915149445746\n",
      "Training loss: 5.074838255621065; Test loss: 5.009199467434246\n",
      "Training loss: 4.967575070205008; Test loss: 4.913536910038845\n"
     ]
    }
   ],
   "source": [
    "def train(model, epochs=10):\n",
    "    train_losses = []\n",
    "    test_losses = []\n",
    "    train_loader = torch.utils.data.DataLoader(train_dataset, batch_size=batch_size, shuffle=True, num_workers=16)\n",
    "    for epoch in range(epochs):\n",
    "        opt.zero_grad()\n",
    "        model.train()\n",
    "        epoch_train_loss = 0\n",
    "        for colors in train_loader:\n",
    "            colors = colors.to(device)\n",
    "            preds = model(colors)\n",
    "            loss = compute_loss(colors, preds)\n",
    "            loss.backward()\n",
    "            opt.step()\n",
    "            epoch_train_loss += loss.item()\n",
    "        epoch_train_loss /= len(train_loader) / batch_size\n",
    "        test_loss = evaluate_model(model)\n",
    "        visualize_model(model, save_path=os.path.join(base_folder, f\"reduced_{epoch:04d}.png\"))\n",
    "        train_losses.append(epoch_train_loss)\n",
    "        test_losses.append(test_loss)\n",
    "        print(f\"Training loss: {epoch_train_loss}; Test loss: {test_loss}\")\n",
    "        \n",
    "        \n",
    "train(model)"
   ]
  }
 ],
 "metadata": {
  "kernelspec": {
   "display_name": "Python 3",
   "language": "python",
   "name": "python3"
  },
  "language_info": {
   "codemirror_mode": {
    "name": "ipython",
    "version": 3
   },
   "file_extension": ".py",
   "mimetype": "text/x-python",
   "name": "python",
   "nbconvert_exporter": "python",
   "pygments_lexer": "ipython3",
   "version": "3.7.4"
  }
 },
 "nbformat": 4,
 "nbformat_minor": 4
}
